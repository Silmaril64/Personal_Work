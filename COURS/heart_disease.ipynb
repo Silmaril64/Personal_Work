{
 "cells": [
  {
   "cell_type": "markdown",
   "metadata": {},
   "source": [
    "# Predict heart disease\n",
    "\n",
    "In this activity, you'll use a small [dataset](https://archive.ics.uci.edu/ml/datasets/heart+Disease) provided by the Cleveland Clinic Foundation for Heart Disease. \n",
    "\n",
    "Each row describes a patient, and each column describes an attribute. You will use this information to predict whether a patient has heart disease.\n",
    "\n",
    "Below is a description of each column.\n",
    "\n",
    "|  Column  |                           Description                          |  Feature Type  | Data Type |\n",
    "|:--------:|:--------------------------------------------------------------:|:--------------:|:---------:|\n",
    "| Age      | Age in years                                                   | Numerical      | integer   |\n",
    "| Sex      | (1 = male; 0 = female)                                         | Categorical    | integer   |\n",
    "| CP       | Chest pain type (0, 1, 2, 3, 4)                                | Categorical    | integer   |\n",
    "| Trestbpd | Resting blood pressure (in mm Hg on admission to the hospital) | Numerical      | integer   |\n",
    "| Chol     | Serum cholestoral in mg/dl                                     | Numerical      | integer   |\n",
    "| FBS      | (fasting blood sugar > 120 mg/dl) (1 = true; 0 = false)        | Categorical    | integer   |\n",
    "| RestECG  | Resting electrocardiographic results (0, 1, 2)                 | Categorical    | integer   |\n",
    "| Thalach  | Maximum heart rate achieved                                    | Numerical      | integer   |\n",
    "| Exang    | Exercise induced angina (1 = yes; 0 = no)                      | Categorical    | integer   |\n",
    "| Oldpeak  | ST depression induced by exercise relative to rest             | Numerical      | float     |\n",
    "| Slope    | The slope of the peak exercise ST segment                      | Numerical      | integer   |\n",
    "| CA       | Number of major vessels (0-3) colored by flourosopy            | Numerical      | integer   |\n",
    "| Thal     | 3 = normal; 6 = fixed defect; 7 = reversable defect            | Categorical    | string    |\n",
    "| Target   | Diagnosis of heart disease (1 = true; 0 = false)               | Classification | integer   |"
   ]
  },
  {
   "cell_type": "markdown",
   "metadata": {},
   "source": [
    "## Environment setup"
   ]
  },
  {
   "cell_type": "code",
   "execution_count": 5,
   "metadata": {},
   "outputs": [
    {
     "name": "stdout",
     "output_type": "stream",
     "text": [
      "Python version: 3.7.5\n"
     ]
    }
   ],
   "source": [
    "import platform\n",
    "\n",
    "print(f\"Python version: {platform.python_version()}\")\n",
    "assert platform.python_version_tuple() >= (\"3\", \"6\")\n",
    "\n",
    "import numpy as np\n",
    "import matplotlib.pyplot as plt\n",
    "import seaborn as sns\n",
    "import pandas as pd"
   ]
  },
  {
   "cell_type": "code",
   "execution_count": 6,
   "metadata": {},
   "outputs": [],
   "source": [
    "# Setup plots\n",
    "%matplotlib inline\n",
    "plt.rcParams[\"figure.figsize\"] = 10, 8\n",
    "%config InlineBackend.figure_format = \"retina\"\n",
    "sns.set()"
   ]
  },
  {
   "cell_type": "code",
   "execution_count": 7,
   "metadata": {
    "nbgrader": {
     "grade": true,
     "grade_id": "cell-eb38bba5eed58d48",
     "locked": false,
     "points": 0,
     "schema_version": 3,
     "solution": true,
     "task": false
    }
   },
   "outputs": [
    {
     "name": "stdout",
     "output_type": "stream",
     "text": [
      "scikit-learn version: 0.22.1\n"
     ]
    }
   ],
   "source": [
    "import sklearn\n",
    "\n",
    "print(f\"scikit-learn version: {sklearn.__version__}\")\n",
    "\n",
    "# You may add other imports here as needed\n",
    "# BEGIN SOLUTION CODE\n",
    "from sklearn.model_selection import train_test_split\n",
    "from sklearn.pipeline import Pipeline\n",
    "from sklearn.preprocessing import StandardScaler, OneHotEncoder\n",
    "from sklearn.compose import ColumnTransformer\n",
    "from sklearn.linear_model import SGDClassifier\n",
    "from sklearn.model_selection import cross_val_score\n",
    "from sklearn.metrics import (\n",
    "    plot_confusion_matrix,\n",
    "    classification_report,\n",
    "    plot_roc_curve,\n",
    ")\n",
    "from sklearn.model_selection import cross_val_score\n",
    "# END SOLUTION CODE"
   ]
  },
  {
   "cell_type": "markdown",
   "metadata": {},
   "source": [
    "## Step 1: loading the data"
   ]
  },
  {
   "cell_type": "markdown",
   "metadata": {},
   "source": [
    "### Question\n",
    "\n",
    "Load the dataset into a pandas DataFrame named `df_heart`."
   ]
  },
  {
   "cell_type": "code",
   "execution_count": 8,
   "metadata": {
    "nbgrader": {
     "grade": false,
     "grade_id": "cell-afd9ddd5c64e787a",
     "locked": false,
     "schema_version": 3,
     "solution": true,
     "task": false
    }
   },
   "outputs": [],
   "source": [
    "csv_url = \"https://raw.githubusercontent.com/bpesquet/mlkatas/master/_datasets/heart.csv\"\n",
    "\n",
    "# BEGIN SOLUTION CODE\n",
    "df_heart = pd.read_csv(csv_url)\n",
    "# END SOLUTION CODE"
   ]
  },
  {
   "cell_type": "code",
   "execution_count": 9,
   "metadata": {
    "nbgrader": {
     "grade": true,
     "grade_id": "cell-3ba7578fa759b644",
     "locked": true,
     "points": 1,
     "schema_version": 3,
     "solution": false,
     "task": false
    }
   },
   "outputs": [
    {
     "name": "stdout",
     "output_type": "stream",
     "text": [
      "df_heart: (301, 14)\n"
     ]
    }
   ],
   "source": [
    "print(f\"df_heart: {df_heart.shape}\")\n",
    "\n",
    "assert df_heart.shape == (301, 14)"
   ]
  },
  {
   "cell_type": "markdown",
   "metadata": {},
   "source": [
    "## Step 2: prepare the data"
   ]
  },
  {
   "cell_type": "markdown",
   "metadata": {},
   "source": [
    "### Question\n",
    "\n",
    "Use the following cells to discover data."
   ]
  },
  {
   "cell_type": "code",
   "execution_count": 10,
   "metadata": {
    "nbgrader": {
     "grade": true,
     "grade_id": "cell-b97b6c7563f889a8",
     "locked": false,
     "points": 0,
     "schema_version": 3,
     "solution": true,
     "task": false
    }
   },
   "outputs": [
    {
     "name": "stdout",
     "output_type": "stream",
     "text": [
      "<class 'pandas.core.frame.DataFrame'>\n",
      "RangeIndex: 301 entries, 0 to 300\n",
      "Data columns (total 14 columns):\n",
      " #   Column    Non-Null Count  Dtype  \n",
      "---  ------    --------------  -----  \n",
      " 0   age       301 non-null    int64  \n",
      " 1   sex       301 non-null    int64  \n",
      " 2   cp        301 non-null    int64  \n",
      " 3   trestbps  301 non-null    int64  \n",
      " 4   chol      301 non-null    int64  \n",
      " 5   fbs       301 non-null    int64  \n",
      " 6   restecg   301 non-null    int64  \n",
      " 7   thalach   301 non-null    int64  \n",
      " 8   exang     301 non-null    int64  \n",
      " 9   oldpeak   301 non-null    float64\n",
      " 10  slope     301 non-null    int64  \n",
      " 11  ca        301 non-null    int64  \n",
      " 12  thal      301 non-null    object \n",
      " 13  target    301 non-null    int64  \n",
      "dtypes: float64(1), int64(12), object(1)\n",
      "memory usage: 33.0+ KB\n"
     ]
    }
   ],
   "source": [
    "# Print info about the dataset\n",
    "\n",
    "# BEGIN SOLUTION CODE\n",
    "df_heart.info()\n",
    "# END SOLUTION CODE"
   ]
  },
  {
   "cell_type": "code",
   "execution_count": 11,
   "metadata": {
    "nbgrader": {
     "grade": true,
     "grade_id": "cell-3f78cf6edc4b3dd9",
     "locked": false,
     "points": 0,
     "schema_version": 3,
     "solution": true,
     "task": false
    }
   },
   "outputs": [
    {
     "data": {
      "text/html": [
       "<div>\n",
       "<style scoped>\n",
       "    .dataframe tbody tr th:only-of-type {\n",
       "        vertical-align: middle;\n",
       "    }\n",
       "\n",
       "    .dataframe tbody tr th {\n",
       "        vertical-align: top;\n",
       "    }\n",
       "\n",
       "    .dataframe thead th {\n",
       "        text-align: right;\n",
       "    }\n",
       "</style>\n",
       "<table border=\"1\" class=\"dataframe\">\n",
       "  <thead>\n",
       "    <tr style=\"text-align: right;\">\n",
       "      <th></th>\n",
       "      <th>age</th>\n",
       "      <th>sex</th>\n",
       "      <th>cp</th>\n",
       "      <th>trestbps</th>\n",
       "      <th>chol</th>\n",
       "      <th>fbs</th>\n",
       "      <th>restecg</th>\n",
       "      <th>thalach</th>\n",
       "      <th>exang</th>\n",
       "      <th>oldpeak</th>\n",
       "      <th>slope</th>\n",
       "      <th>ca</th>\n",
       "      <th>thal</th>\n",
       "      <th>target</th>\n",
       "    </tr>\n",
       "  </thead>\n",
       "  <tbody>\n",
       "    <tr>\n",
       "      <th>0</th>\n",
       "      <td>63</td>\n",
       "      <td>1</td>\n",
       "      <td>1</td>\n",
       "      <td>145</td>\n",
       "      <td>233</td>\n",
       "      <td>1</td>\n",
       "      <td>2</td>\n",
       "      <td>150</td>\n",
       "      <td>0</td>\n",
       "      <td>2.3</td>\n",
       "      <td>3</td>\n",
       "      <td>0</td>\n",
       "      <td>fixed</td>\n",
       "      <td>0</td>\n",
       "    </tr>\n",
       "    <tr>\n",
       "      <th>1</th>\n",
       "      <td>67</td>\n",
       "      <td>1</td>\n",
       "      <td>4</td>\n",
       "      <td>160</td>\n",
       "      <td>286</td>\n",
       "      <td>0</td>\n",
       "      <td>2</td>\n",
       "      <td>108</td>\n",
       "      <td>1</td>\n",
       "      <td>1.5</td>\n",
       "      <td>2</td>\n",
       "      <td>3</td>\n",
       "      <td>normal</td>\n",
       "      <td>1</td>\n",
       "    </tr>\n",
       "    <tr>\n",
       "      <th>2</th>\n",
       "      <td>67</td>\n",
       "      <td>1</td>\n",
       "      <td>4</td>\n",
       "      <td>120</td>\n",
       "      <td>229</td>\n",
       "      <td>0</td>\n",
       "      <td>2</td>\n",
       "      <td>129</td>\n",
       "      <td>1</td>\n",
       "      <td>2.6</td>\n",
       "      <td>2</td>\n",
       "      <td>2</td>\n",
       "      <td>reversible</td>\n",
       "      <td>0</td>\n",
       "    </tr>\n",
       "    <tr>\n",
       "      <th>3</th>\n",
       "      <td>37</td>\n",
       "      <td>1</td>\n",
       "      <td>3</td>\n",
       "      <td>130</td>\n",
       "      <td>250</td>\n",
       "      <td>0</td>\n",
       "      <td>0</td>\n",
       "      <td>187</td>\n",
       "      <td>0</td>\n",
       "      <td>3.5</td>\n",
       "      <td>3</td>\n",
       "      <td>0</td>\n",
       "      <td>normal</td>\n",
       "      <td>0</td>\n",
       "    </tr>\n",
       "    <tr>\n",
       "      <th>4</th>\n",
       "      <td>41</td>\n",
       "      <td>0</td>\n",
       "      <td>2</td>\n",
       "      <td>130</td>\n",
       "      <td>204</td>\n",
       "      <td>0</td>\n",
       "      <td>2</td>\n",
       "      <td>172</td>\n",
       "      <td>0</td>\n",
       "      <td>1.4</td>\n",
       "      <td>1</td>\n",
       "      <td>0</td>\n",
       "      <td>normal</td>\n",
       "      <td>0</td>\n",
       "    </tr>\n",
       "    <tr>\n",
       "      <th>5</th>\n",
       "      <td>56</td>\n",
       "      <td>1</td>\n",
       "      <td>2</td>\n",
       "      <td>120</td>\n",
       "      <td>236</td>\n",
       "      <td>0</td>\n",
       "      <td>0</td>\n",
       "      <td>178</td>\n",
       "      <td>0</td>\n",
       "      <td>0.8</td>\n",
       "      <td>1</td>\n",
       "      <td>0</td>\n",
       "      <td>normal</td>\n",
       "      <td>0</td>\n",
       "    </tr>\n",
       "    <tr>\n",
       "      <th>6</th>\n",
       "      <td>62</td>\n",
       "      <td>0</td>\n",
       "      <td>4</td>\n",
       "      <td>140</td>\n",
       "      <td>268</td>\n",
       "      <td>0</td>\n",
       "      <td>2</td>\n",
       "      <td>160</td>\n",
       "      <td>0</td>\n",
       "      <td>3.6</td>\n",
       "      <td>3</td>\n",
       "      <td>2</td>\n",
       "      <td>normal</td>\n",
       "      <td>1</td>\n",
       "    </tr>\n",
       "    <tr>\n",
       "      <th>7</th>\n",
       "      <td>57</td>\n",
       "      <td>0</td>\n",
       "      <td>4</td>\n",
       "      <td>120</td>\n",
       "      <td>354</td>\n",
       "      <td>0</td>\n",
       "      <td>0</td>\n",
       "      <td>163</td>\n",
       "      <td>1</td>\n",
       "      <td>0.6</td>\n",
       "      <td>1</td>\n",
       "      <td>0</td>\n",
       "      <td>normal</td>\n",
       "      <td>0</td>\n",
       "    </tr>\n",
       "    <tr>\n",
       "      <th>8</th>\n",
       "      <td>63</td>\n",
       "      <td>1</td>\n",
       "      <td>4</td>\n",
       "      <td>130</td>\n",
       "      <td>254</td>\n",
       "      <td>0</td>\n",
       "      <td>2</td>\n",
       "      <td>147</td>\n",
       "      <td>0</td>\n",
       "      <td>1.4</td>\n",
       "      <td>2</td>\n",
       "      <td>1</td>\n",
       "      <td>reversible</td>\n",
       "      <td>1</td>\n",
       "    </tr>\n",
       "    <tr>\n",
       "      <th>9</th>\n",
       "      <td>53</td>\n",
       "      <td>1</td>\n",
       "      <td>4</td>\n",
       "      <td>140</td>\n",
       "      <td>203</td>\n",
       "      <td>1</td>\n",
       "      <td>2</td>\n",
       "      <td>155</td>\n",
       "      <td>1</td>\n",
       "      <td>3.1</td>\n",
       "      <td>3</td>\n",
       "      <td>0</td>\n",
       "      <td>reversible</td>\n",
       "      <td>0</td>\n",
       "    </tr>\n",
       "  </tbody>\n",
       "</table>\n",
       "</div>"
      ],
      "text/plain": [
       "   age  sex  cp  trestbps  chol  fbs  restecg  thalach  exang  oldpeak  slope  \\\n",
       "0   63    1   1       145   233    1        2      150      0      2.3      3   \n",
       "1   67    1   4       160   286    0        2      108      1      1.5      2   \n",
       "2   67    1   4       120   229    0        2      129      1      2.6      2   \n",
       "3   37    1   3       130   250    0        0      187      0      3.5      3   \n",
       "4   41    0   2       130   204    0        2      172      0      1.4      1   \n",
       "5   56    1   2       120   236    0        0      178      0      0.8      1   \n",
       "6   62    0   4       140   268    0        2      160      0      3.6      3   \n",
       "7   57    0   4       120   354    0        0      163      1      0.6      1   \n",
       "8   63    1   4       130   254    0        2      147      0      1.4      2   \n",
       "9   53    1   4       140   203    1        2      155      1      3.1      3   \n",
       "\n",
       "   ca        thal  target  \n",
       "0   0       fixed       0  \n",
       "1   3      normal       1  \n",
       "2   2  reversible       0  \n",
       "3   0      normal       0  \n",
       "4   0      normal       0  \n",
       "5   0      normal       0  \n",
       "6   2      normal       1  \n",
       "7   0      normal       0  \n",
       "8   1  reversible       1  \n",
       "9   0  reversible       0  "
      ]
     },
     "execution_count": 11,
     "metadata": {},
     "output_type": "execute_result"
    }
   ],
   "source": [
    "# Print the first 10 data samples\n",
    "\n",
    "# BEGIN SOLUTION CODE\n",
    "df_heart.head(n=10)\n",
    "# END SOLUTION CODE"
   ]
  },
  {
   "cell_type": "code",
   "execution_count": 12,
   "metadata": {
    "nbgrader": {
     "grade": true,
     "grade_id": "cell-ca2d684382789293",
     "locked": false,
     "points": 0,
     "schema_version": 3,
     "solution": true,
     "task": false
    }
   },
   "outputs": [
    {
     "data": {
      "text/html": [
       "<div>\n",
       "<style scoped>\n",
       "    .dataframe tbody tr th:only-of-type {\n",
       "        vertical-align: middle;\n",
       "    }\n",
       "\n",
       "    .dataframe tbody tr th {\n",
       "        vertical-align: top;\n",
       "    }\n",
       "\n",
       "    .dataframe thead th {\n",
       "        text-align: right;\n",
       "    }\n",
       "</style>\n",
       "<table border=\"1\" class=\"dataframe\">\n",
       "  <thead>\n",
       "    <tr style=\"text-align: right;\">\n",
       "      <th></th>\n",
       "      <th>age</th>\n",
       "      <th>sex</th>\n",
       "      <th>cp</th>\n",
       "      <th>trestbps</th>\n",
       "      <th>chol</th>\n",
       "      <th>fbs</th>\n",
       "      <th>restecg</th>\n",
       "      <th>thalach</th>\n",
       "      <th>exang</th>\n",
       "      <th>oldpeak</th>\n",
       "      <th>slope</th>\n",
       "      <th>ca</th>\n",
       "      <th>target</th>\n",
       "    </tr>\n",
       "  </thead>\n",
       "  <tbody>\n",
       "    <tr>\n",
       "      <th>count</th>\n",
       "      <td>301.000000</td>\n",
       "      <td>301.000000</td>\n",
       "      <td>301.000000</td>\n",
       "      <td>301.000000</td>\n",
       "      <td>301.000000</td>\n",
       "      <td>301.000000</td>\n",
       "      <td>301.000000</td>\n",
       "      <td>301.000000</td>\n",
       "      <td>301.000000</td>\n",
       "      <td>301.000000</td>\n",
       "      <td>301.000000</td>\n",
       "      <td>301.000000</td>\n",
       "      <td>301.000000</td>\n",
       "    </tr>\n",
       "    <tr>\n",
       "      <th>mean</th>\n",
       "      <td>54.571429</td>\n",
       "      <td>0.677741</td>\n",
       "      <td>3.126246</td>\n",
       "      <td>131.684385</td>\n",
       "      <td>246.817276</td>\n",
       "      <td>0.146179</td>\n",
       "      <td>0.996678</td>\n",
       "      <td>149.308970</td>\n",
       "      <td>0.328904</td>\n",
       "      <td>1.061462</td>\n",
       "      <td>1.594684</td>\n",
       "      <td>0.677741</td>\n",
       "      <td>0.275748</td>\n",
       "    </tr>\n",
       "    <tr>\n",
       "      <th>std</th>\n",
       "      <td>9.041702</td>\n",
       "      <td>0.468120</td>\n",
       "      <td>1.008634</td>\n",
       "      <td>17.709415</td>\n",
       "      <td>52.186619</td>\n",
       "      <td>0.353874</td>\n",
       "      <td>0.988259</td>\n",
       "      <td>22.953015</td>\n",
       "      <td>0.470597</td>\n",
       "      <td>1.167295</td>\n",
       "      <td>0.617931</td>\n",
       "      <td>0.937623</td>\n",
       "      <td>0.447634</td>\n",
       "    </tr>\n",
       "    <tr>\n",
       "      <th>min</th>\n",
       "      <td>29.000000</td>\n",
       "      <td>0.000000</td>\n",
       "      <td>0.000000</td>\n",
       "      <td>94.000000</td>\n",
       "      <td>126.000000</td>\n",
       "      <td>0.000000</td>\n",
       "      <td>0.000000</td>\n",
       "      <td>71.000000</td>\n",
       "      <td>0.000000</td>\n",
       "      <td>0.000000</td>\n",
       "      <td>1.000000</td>\n",
       "      <td>0.000000</td>\n",
       "      <td>0.000000</td>\n",
       "    </tr>\n",
       "    <tr>\n",
       "      <th>25%</th>\n",
       "      <td>48.000000</td>\n",
       "      <td>0.000000</td>\n",
       "      <td>3.000000</td>\n",
       "      <td>120.000000</td>\n",
       "      <td>211.000000</td>\n",
       "      <td>0.000000</td>\n",
       "      <td>0.000000</td>\n",
       "      <td>132.000000</td>\n",
       "      <td>0.000000</td>\n",
       "      <td>0.000000</td>\n",
       "      <td>1.000000</td>\n",
       "      <td>0.000000</td>\n",
       "      <td>0.000000</td>\n",
       "    </tr>\n",
       "    <tr>\n",
       "      <th>50%</th>\n",
       "      <td>56.000000</td>\n",
       "      <td>1.000000</td>\n",
       "      <td>3.000000</td>\n",
       "      <td>130.000000</td>\n",
       "      <td>242.000000</td>\n",
       "      <td>0.000000</td>\n",
       "      <td>1.000000</td>\n",
       "      <td>152.000000</td>\n",
       "      <td>0.000000</td>\n",
       "      <td>0.800000</td>\n",
       "      <td>2.000000</td>\n",
       "      <td>0.000000</td>\n",
       "      <td>0.000000</td>\n",
       "    </tr>\n",
       "    <tr>\n",
       "      <th>75%</th>\n",
       "      <td>61.000000</td>\n",
       "      <td>1.000000</td>\n",
       "      <td>4.000000</td>\n",
       "      <td>140.000000</td>\n",
       "      <td>275.000000</td>\n",
       "      <td>0.000000</td>\n",
       "      <td>2.000000</td>\n",
       "      <td>165.000000</td>\n",
       "      <td>1.000000</td>\n",
       "      <td>1.600000</td>\n",
       "      <td>2.000000</td>\n",
       "      <td>1.000000</td>\n",
       "      <td>1.000000</td>\n",
       "    </tr>\n",
       "    <tr>\n",
       "      <th>max</th>\n",
       "      <td>77.000000</td>\n",
       "      <td>1.000000</td>\n",
       "      <td>4.000000</td>\n",
       "      <td>200.000000</td>\n",
       "      <td>564.000000</td>\n",
       "      <td>1.000000</td>\n",
       "      <td>2.000000</td>\n",
       "      <td>202.000000</td>\n",
       "      <td>1.000000</td>\n",
       "      <td>6.200000</td>\n",
       "      <td>3.000000</td>\n",
       "      <td>3.000000</td>\n",
       "      <td>1.000000</td>\n",
       "    </tr>\n",
       "  </tbody>\n",
       "</table>\n",
       "</div>"
      ],
      "text/plain": [
       "              age         sex          cp    trestbps        chol         fbs  \\\n",
       "count  301.000000  301.000000  301.000000  301.000000  301.000000  301.000000   \n",
       "mean    54.571429    0.677741    3.126246  131.684385  246.817276    0.146179   \n",
       "std      9.041702    0.468120    1.008634   17.709415   52.186619    0.353874   \n",
       "min     29.000000    0.000000    0.000000   94.000000  126.000000    0.000000   \n",
       "25%     48.000000    0.000000    3.000000  120.000000  211.000000    0.000000   \n",
       "50%     56.000000    1.000000    3.000000  130.000000  242.000000    0.000000   \n",
       "75%     61.000000    1.000000    4.000000  140.000000  275.000000    0.000000   \n",
       "max     77.000000    1.000000    4.000000  200.000000  564.000000    1.000000   \n",
       "\n",
       "          restecg     thalach       exang     oldpeak       slope          ca  \\\n",
       "count  301.000000  301.000000  301.000000  301.000000  301.000000  301.000000   \n",
       "mean     0.996678  149.308970    0.328904    1.061462    1.594684    0.677741   \n",
       "std      0.988259   22.953015    0.470597    1.167295    0.617931    0.937623   \n",
       "min      0.000000   71.000000    0.000000    0.000000    1.000000    0.000000   \n",
       "25%      0.000000  132.000000    0.000000    0.000000    1.000000    0.000000   \n",
       "50%      1.000000  152.000000    0.000000    0.800000    2.000000    0.000000   \n",
       "75%      2.000000  165.000000    1.000000    1.600000    2.000000    1.000000   \n",
       "max      2.000000  202.000000    1.000000    6.200000    3.000000    3.000000   \n",
       "\n",
       "           target  \n",
       "count  301.000000  \n",
       "mean     0.275748  \n",
       "std      0.447634  \n",
       "min      0.000000  \n",
       "25%      0.000000  \n",
       "50%      0.000000  \n",
       "75%      1.000000  \n",
       "max      1.000000  "
      ]
     },
     "execution_count": 12,
     "metadata": {},
     "output_type": "execute_result"
    }
   ],
   "source": [
    "# # Print descriptive statistics for all numerical attributes\n",
    "\n",
    "# BEGIN SOLUTION CODE\n",
    "df_heart.describe()\n",
    "# END SOLUTION CODE"
   ]
  },
  {
   "cell_type": "code",
   "execution_count": 13,
   "metadata": {
    "nbgrader": {
     "grade": true,
     "grade_id": "cell-a593bae8a5387a22",
     "locked": false,
     "points": 0,
     "schema_version": 3,
     "solution": true,
     "task": false
    }
   },
   "outputs": [
    {
     "data": {
      "text/plain": [
       "0    218\n",
       "1     83\n",
       "Name: target, dtype: int64"
      ]
     },
     "execution_count": 13,
     "metadata": {},
     "output_type": "execute_result"
    }
   ],
   "source": [
    "# Print distribution of target values\n",
    "\n",
    "# BEGIN SOLUTION CODE\n",
    "df_heart[\"target\"].value_counts()\n",
    "# END SOLUTION CODE"
   ]
  },
  {
   "cell_type": "markdown",
   "metadata": {},
   "source": [
    "### Question\n",
    "\n",
    "Use the following cells to prepare data for training:\n",
    "- Split data between training and test sets with a 20% ratio.\n",
    "- Store inputs and labels in the `x_train` and `y_train` variables.\n",
    "- Preprocess training input data as needed."
   ]
  },
  {
   "cell_type": "code",
   "execution_count": 14,
   "metadata": {
    "nbgrader": {
     "grade": false,
     "grade_id": "cell-b30578ddb1339003",
     "locked": false,
     "schema_version": 3,
     "solution": true,
     "task": false
    }
   },
   "outputs": [],
   "source": [
    "# Split dataset between training and test\n",
    "\n",
    "# BEGIN SOLUTION CODE\n",
    "df_train, df_test = train_test_split(df_heart, test_size=0.2)\n",
    "# END SOLUTION CODE"
   ]
  },
  {
   "cell_type": "code",
   "execution_count": 15,
   "metadata": {
    "nbgrader": {
     "grade": true,
     "grade_id": "cell-44f08b492f1af23e",
     "locked": true,
     "points": 1,
     "schema_version": 3,
     "solution": false,
     "task": false
    }
   },
   "outputs": [
    {
     "name": "stdout",
     "output_type": "stream",
     "text": [
      "Training dataset: (240, 14)\n",
      "Test dataset: (61, 14)\n"
     ]
    }
   ],
   "source": [
    "print(f\"Training dataset: {df_train.shape}\")\n",
    "print(f\"Test dataset: {df_test.shape}\")\n",
    "\n",
    "assert df_train.shape == (240, 14)\n",
    "assert df_test.shape == (61, 14)"
   ]
  },
  {
   "cell_type": "code",
   "execution_count": 16,
   "metadata": {
    "nbgrader": {
     "grade": false,
     "grade_id": "cell-8fb3ecece3668106",
     "locked": false,
     "schema_version": 3,
     "solution": true,
     "task": false
    }
   },
   "outputs": [],
   "source": [
    "# Split training dataset between inputs and target\n",
    "\n",
    "# BEGIN SOLUTION CODE\n",
    "# Target attribute is removed from training data\n",
    "df_x_train = df_train.drop(\"target\", axis=1)\n",
    "\n",
    "# Targets are transformed into a NumPy array for further use during training\n",
    "y_train = df_train[\"target\"].to_numpy()\n",
    "# END SOLUTION CODE"
   ]
  },
  {
   "cell_type": "code",
   "execution_count": 17,
   "metadata": {
    "nbgrader": {
     "grade": true,
     "grade_id": "cell-bc34229a83d80b4f",
     "locked": true,
     "points": 1,
     "schema_version": 3,
     "solution": false,
     "task": false
    }
   },
   "outputs": [
    {
     "name": "stdout",
     "output_type": "stream",
     "text": [
      "Training data: (240, 13)\n",
      "Training labels: (240,)\n"
     ]
    }
   ],
   "source": [
    "print(f\"Training data: {df_x_train.shape}\")\n",
    "print(f\"Training labels: {y_train.shape}\")\n",
    "\n",
    "assert df_x_train.shape == (240, 13)\n",
    "assert y_train.shape == (240,)"
   ]
  },
  {
   "cell_type": "code",
   "execution_count": 18,
   "metadata": {
    "nbgrader": {
     "grade": true,
     "grade_id": "cell-664c1ad18297e830",
     "locked": false,
     "points": 0,
     "schema_version": 3,
     "solution": true,
     "task": false
    }
   },
   "outputs": [
    {
     "name": "stdout",
     "output_type": "stream",
     "text": [
      "Index(['age', 'sex', 'cp', 'trestbps', 'chol', 'fbs', 'restecg', 'thalach',\n",
      "       'exang', 'oldpeak', 'slope', 'ca'],\n",
      "      dtype='object')\n",
      "Index(['thal'], dtype='object')\n"
     ]
    },
    {
     "data": {
      "text/plain": [
       "normal        136\n",
       "reversible     92\n",
       "fixed          12\n",
       "Name: thal, dtype: int64"
      ]
     },
     "execution_count": 18,
     "metadata": {},
     "output_type": "execute_result"
    }
   ],
   "source": [
    "# Print numerical and categorical features\n",
    "\n",
    "# BEGIN SOLUTION CODE\n",
    "num_features = df_x_train.select_dtypes(include=[np.number]).columns\n",
    "print(num_features)\n",
    "\n",
    "cat_features = df_x_train.select_dtypes(include=[np.object]).columns\n",
    "print(cat_features)\n",
    "# END SOLUTION CODE\n",
    "\n",
    "# Print all values for the \"thal\" feature\n",
    "\n",
    "# BEGIN SOLUTION CODE\n",
    "df_x_train[\"thal\"].value_counts()\n",
    "# END SOLUTION CODE"
   ]
  },
  {
   "cell_type": "code",
   "execution_count": 19,
   "metadata": {
    "nbgrader": {
     "grade": false,
     "grade_id": "cell-f0c436744b2794ce",
     "locked": false,
     "schema_version": 3,
     "solution": true,
     "task": false
    }
   },
   "outputs": [],
   "source": [
    "# Use pipelines to preprocess data\n",
    "\n",
    "# BEGIN SOLUTION CODE\n",
    "# This pipeline handles missing values and standardizes features\n",
    "num_pipeline = Pipeline([(\"std_scaler\", StandardScaler()),])\n",
    "\n",
    "# This pipeline applies the previous one on numerical features\n",
    "# It also one-hot encodes the categorical features\n",
    "full_pipeline = ColumnTransformer(\n",
    "    [(\"num\", num_pipeline, num_features), (\"cat\", OneHotEncoder(), cat_features),]\n",
    ")\n",
    "\n",
    "# Apply the last pipeline on training data\n",
    "x_train = full_pipeline.fit_transform(df_x_train)\n",
    "# END SOLUTION CODE"
   ]
  },
  {
   "cell_type": "code",
   "execution_count": 20,
   "metadata": {
    "nbgrader": {
     "grade": true,
     "grade_id": "cell-a5e4a800ccbbc0fc",
     "locked": true,
     "points": 1,
     "schema_version": 3,
     "solution": false,
     "task": false
    }
   },
   "outputs": [
    {
     "name": "stdout",
     "output_type": "stream",
     "text": [
      "x_train: (240, 15)\n",
      "[-0.8185596   0.72709176 -1.13201319 -0.13303685 -0.04558078 -0.40626167\n",
      "  1.01069054  1.41166862 -0.72040776 -0.74709227  0.60964277 -0.73224932\n",
      "  0.          1.          0.        ]\n"
     ]
    }
   ],
   "source": [
    "# Print preprocessed data shape and first sample\n",
    "print(f\"x_train: {x_train.shape}\")\n",
    "print(x_train[0])\n",
    "\n",
    "assert x_train.shape == (240, 15)"
   ]
  },
  {
   "cell_type": "markdown",
   "metadata": {},
   "source": [
    "## Step 3: train and evaluate a model"
   ]
  },
  {
   "cell_type": "markdown",
   "metadata": {},
   "source": [
    "### Question\n",
    "\n",
    "Use the following cells to:\n",
    "- Train a SGD classifier on the training data.\n",
    "- Evaluate its accuracy using K-fold cross-validation.\n",
    "- Compute the precision, recall and f1-score metrics.\n",
    "- Plot its confusion matrix and ROC curve."
   ]
  },
  {
   "cell_type": "code",
   "execution_count": 21,
   "metadata": {
    "nbgrader": {
     "grade": true,
     "grade_id": "cell-a433e228f0f0dcba",
     "locked": false,
     "points": 0,
     "schema_version": 3,
     "solution": true,
     "task": false
    }
   },
   "outputs": [
    {
     "data": {
      "text/plain": [
       "SGDClassifier(alpha=0.0001, average=False, class_weight=None,\n",
       "              early_stopping=False, epsilon=0.1, eta0=0.0, fit_intercept=True,\n",
       "              l1_ratio=0.15, learning_rate='optimal', loss='log', max_iter=1000,\n",
       "              n_iter_no_change=5, n_jobs=None, penalty='l2', power_t=0.5,\n",
       "              random_state=None, shuffle=True, tol=0.001,\n",
       "              validation_fraction=0.1, verbose=0, warm_start=False)"
      ]
     },
     "execution_count": 21,
     "metadata": {},
     "output_type": "execute_result"
    }
   ],
   "source": [
    "# Fit a SGD classifier to the training set\n",
    "\n",
    "# BEGIN SOLUTION CODE\n",
    "sgd_model = SGDClassifier(loss=\"log\")\n",
    "sgd_model.fit(x_train, y_train)\n",
    "# END SOLUTION CODE"
   ]
  },
  {
   "cell_type": "code",
   "execution_count": 22,
   "metadata": {
    "nbgrader": {
     "grade": false,
     "grade_id": "cell-d88fdfbd9a2e77c0",
     "locked": false,
     "schema_version": 3,
     "solution": true,
     "task": false
    }
   },
   "outputs": [],
   "source": [
    "# Use cross-validation to evaluate accuracy, using 3 folds\n",
    "# Store the result in the cv_acc variable\n",
    "\n",
    "# BEGIN SOLUTION CODE\n",
    "cv_acc = cross_val_score(sgd_model, x_train, y_train, cv=3, scoring=\"accuracy\")\n",
    "# END SOLUTION CODE"
   ]
  },
  {
   "cell_type": "code",
   "execution_count": 23,
   "metadata": {
    "nbgrader": {
     "grade": true,
     "grade_id": "cell-31b0c320a7a2101a",
     "locked": true,
     "points": 1,
     "schema_version": 3,
     "solution": false,
     "task": false
    }
   },
   "outputs": [
    {
     "name": "stdout",
     "output_type": "stream",
     "text": [
      "CV accuracy: [0.7625 0.8375 0.85  ]\n"
     ]
    }
   ],
   "source": [
    "print(f\"CV accuracy: {cv_acc}\")\n",
    "\n",
    "assert np.mean(cv_acc) > 0.70"
   ]
  },
  {
   "cell_type": "code",
   "execution_count": 24,
   "metadata": {
    "nbgrader": {
     "grade": false,
     "grade_id": "cell-53ee7be98a7ab86d",
     "locked": true,
     "schema_version": 3,
     "solution": false,
     "task": false
    }
   },
   "outputs": [],
   "source": [
    "# Plot the confusion matrix for a model and a dataset\n",
    "def plot_conf_mat(model, x, y):\n",
    "    with sns.axes_style(\"white\"):  # Temporary hide Seaborn grid lines\n",
    "        display = plot_confusion_matrix(\n",
    "            model, x, y, values_format=\"d\", cmap=plt.cm.Blues\n",
    "        )"
   ]
  },
  {
   "cell_type": "code",
   "execution_count": 25,
   "metadata": {
    "nbgrader": {
     "grade": true,
     "grade_id": "cell-1cccbb273d746ded",
     "locked": false,
     "points": 0,
     "schema_version": 3,
     "solution": true,
     "task": false
    }
   },
   "outputs": [
    {
     "data": {
      "image/png": "[encoded data removed]",
      "text/plain": [
       "<Figure size 720x576 with 2 Axes>"
      ]
     },
     "metadata": {
      "image/png": {
       "height": 484,
       "width": 557
      }
     },
     "output_type": "display_data"
    }
   ],
   "source": [
    "# Plot confusion matrix for the SGD classifier\n",
    "\n",
    "# BEGIN SOLUTION CODE\n",
    "plot_conf_mat(sgd_model, x_train, y_train)\n",
    "# END SOLUTION CODE"
   ]
  },
  {
   "cell_type": "code",
   "execution_count": 26,
   "metadata": {
    "nbgrader": {
     "grade": true,
     "grade_id": "cell-2a58d2664309c9f1",
     "locked": false,
     "points": 0,
     "schema_version": 3,
     "solution": true,
     "task": false
    }
   },
   "outputs": [
    {
     "name": "stdout",
     "output_type": "stream",
     "text": [
      "              precision    recall  f1-score   support\n",
      "\n",
      "           0       0.89      0.89      0.89       171\n",
      "           1       0.72      0.72      0.72        69\n",
      "\n",
      "    accuracy                           0.84       240\n",
      "   macro avg       0.81      0.81      0.81       240\n",
      "weighted avg       0.84      0.84      0.84       240\n",
      "\n"
     ]
    }
   ],
   "source": [
    "# Compute precision, recall and f1-score for the SGD classifier\n",
    "\n",
    "# BEGIN SOLUTION CODE\n",
    "print(classification_report(y_train, sgd_model.predict(x_train)))\n",
    "# END SOLUTION CODE"
   ]
  },
  {
   "cell_type": "code",
   "execution_count": 27,
   "metadata": {
    "nbgrader": {
     "grade": true,
     "grade_id": "cell-6cb699959f8e5cc8",
     "locked": false,
     "points": 0,
     "schema_version": 3,
     "solution": true,
     "task": false
    }
   },
   "outputs": [
    {
     "data": {
      "image/png": "[encoded data removed]",
      "text/plain": [
       "<Figure size 720x576 with 1 Axes>"
      ]
     },
     "metadata": {
      "image/png": {
       "height": 484,
       "width": 612
      }
     },
     "output_type": "display_data"
    }
   ],
   "source": [
    "# Plot ROC curve for the SGD classifier\n",
    "\n",
    "# END SOLUTION CODE\n",
    "sgd_disp = plot_roc_curve(sgd_model, x_train, y_train)\n",
    "plt.show()\n",
    "# END SOLUTION CODE"
   ]
  },
  {
   "cell_type": "markdown",
   "metadata": {},
   "source": [
    "## Bonus\n",
    "\n",
    "Train another classifier and plot ROC curves for both."
   ]
  },
  {
   "cell_type": "code",
   "execution_count": null,
   "metadata": {},
   "outputs": [],
   "source": []
  }
 ],
 "metadata": {
  "celltoolbar": "Create Assignment",
  "kernelspec": {
   "display_name": "Python 3",
   "language": "python",
   "name": "python3"
  },
  "language_info": {
   "codemirror_mode": {
    "name": "ipython",
    "version": 3
   },
   "file_extension": ".py",
   "mimetype": "text/x-python",
   "name": "python",
   "nbconvert_exporter": "python",
   "pygments_lexer": "ipython3",
   "version": "3.7.5"
  }
 },
 "nbformat": 4,
 "nbformat_minor": 4
}
